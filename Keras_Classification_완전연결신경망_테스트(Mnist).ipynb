{
  "nbformat": 4,
  "nbformat_minor": 0,
  "metadata": {
    "colab": {
      "name": "Keras Classification 완전연결신경망 테스트(Mnist).ipynb",
      "provenance": [],
      "collapsed_sections": [],
      "authorship_tag": "ABX9TyNW4UdCe5S00X7paIfbAHYF",
      "include_colab_link": true
    },
    "kernelspec": {
      "name": "python3",
      "display_name": "Python 3"
    },
    "accelerator": "GPU"
  },
  "cells": [
    {
      "cell_type": "markdown",
      "metadata": {
        "id": "view-in-github",
        "colab_type": "text"
      },
      "source": [
        "<a href=\"https://colab.research.google.com/github/MinMolang/keras/blob/master/Keras_Classification_%EC%99%84%EC%A0%84%EC%97%B0%EA%B2%B0%EC%8B%A0%EA%B2%BD%EB%A7%9D_%ED%85%8C%EC%8A%A4%ED%8A%B8(Mnist).ipynb\" target=\"_parent\"><img src=\"https://colab.research.google.com/assets/colab-badge.svg\" alt=\"Open In Colab\"/></a>"
      ]
    },
    {
      "cell_type": "code",
      "metadata": {
        "id": "tFydESLChe6y",
        "colab_type": "code",
        "colab": {}
      },
      "source": [
        "'''\n",
        "reference : https://github.com/data-better/DeepS/blob/master/10%EC%9E%A5_MNIST_DL.ipynb\n",
        "'''"
      ],
      "execution_count": null,
      "outputs": []
    },
    {
      "cell_type": "code",
      "metadata": {
        "id": "naW7ePW9RMau",
        "colab_type": "code",
        "colab": {
          "base_uri": "https://localhost:8080/",
          "height": 82
        },
        "outputId": "34262d0d-90ab-4258-ef0e-c8e9f6c9ede2"
      },
      "source": [
        "import warnings\n",
        "warnings.simplefilter(action='ignore', category=FutureWarning)\n",
        "\n",
        "import sys\n",
        "import tensorflow as tf\n",
        "import matplotlib.pyplot as plt\n",
        "import keras\n",
        "from keras.models import Sequential\n",
        "from keras.layers import Dense, Dropout, Flatten\n",
        "from keras.layers.convolutional import Conv2D, MaxPooling2D\n",
        "from tensorflow.keras import datasets, models\n",
        "import numpy as np\n",
        "np.random.seed(7)\n",
        "\n",
        "print('Python version : ', sys.version)\n",
        "print('TensorFlow version : ', tf.__version__)\n",
        "print('Keras version : ', keras.__version__)"
      ],
      "execution_count": 2,
      "outputs": [
        {
          "output_type": "stream",
          "text": [
            "Python version :  3.6.9 (default, Jul 17 2020, 12:50:27) \n",
            "[GCC 8.4.0]\n",
            "TensorFlow version :  2.3.0\n",
            "Keras version :  2.4.3\n"
          ],
          "name": "stdout"
        }
      ]
    },
    {
      "cell_type": "code",
      "metadata": {
        "id": "P7_qndGxSmxq",
        "colab_type": "code",
        "colab": {
          "base_uri": "https://localhost:8080/",
          "height": 346
        },
        "outputId": "ea6b4996-053e-4521-f98f-3fd2828acc55"
      },
      "source": [
        "#CHECK GPU\n",
        "!nvidia-smi"
      ],
      "execution_count": 3,
      "outputs": [
        {
          "output_type": "stream",
          "text": [
            "Sun Sep 20 12:40:57 2020       \n",
            "+-----------------------------------------------------------------------------+\n",
            "| NVIDIA-SMI 450.66       Driver Version: 418.67       CUDA Version: 10.1     |\n",
            "|-------------------------------+----------------------+----------------------+\n",
            "| GPU  Name        Persistence-M| Bus-Id        Disp.A | Volatile Uncorr. ECC |\n",
            "| Fan  Temp  Perf  Pwr:Usage/Cap|         Memory-Usage | GPU-Util  Compute M. |\n",
            "|                               |                      |               MIG M. |\n",
            "|===============================+======================+======================|\n",
            "|   0  Tesla K80           Off  | 00000000:00:04.0 Off |                    0 |\n",
            "| N/A   73C    P8    33W / 149W |      0MiB / 11441MiB |      0%      Default |\n",
            "|                               |                      |                 ERR! |\n",
            "+-------------------------------+----------------------+----------------------+\n",
            "                                                                               \n",
            "+-----------------------------------------------------------------------------+\n",
            "| Processes:                                                                  |\n",
            "|  GPU   GI   CI        PID   Type   Process name                  GPU Memory |\n",
            "|        ID   ID                                                   Usage      |\n",
            "|=============================================================================|\n",
            "|  No running processes found                                                 |\n",
            "+-----------------------------------------------------------------------------+\n"
          ],
          "name": "stdout"
        }
      ]
    },
    {
      "cell_type": "code",
      "metadata": {
        "id": "TmoOfnFVS3zX",
        "colab_type": "code",
        "colab": {
          "base_uri": "https://localhost:8080/",
          "height": 301
        },
        "outputId": "c5499a6b-829c-4f6a-d18f-7587cced0a57"
      },
      "source": [
        "\n",
        "mnist = datasets.mnist\n",
        "\n",
        "(train_x, train_y), (test_x, test_y) = mnist.load_data()\n",
        "train_x, test_x = train_x / 255.0, test_x / 255.0\n",
        "\n",
        "import matplotlib.pyplot as plt\n",
        "for col1 in range(16):\n",
        "  plt.subplot(4,4,col1+1)\n",
        "  plt.imshow(train_x[col1].reshape(28,28), cmap=plt.cm.binary)\n",
        "plt.show()"
      ],
      "execution_count": 4,
      "outputs": [
        {
          "output_type": "stream",
          "text": [
            "Downloading data from https://storage.googleapis.com/tensorflow/tf-keras-datasets/mnist.npz\n",
            "11493376/11490434 [==============================] - 0s 0us/step\n"
          ],
          "name": "stdout"
        },
        {
          "output_type": "display_data",
          "data": {
            "image/png": "[encoded data removed]",
            "text/plain": [
              "<Figure size 432x288 with 16 Axes>"
            ]
          },
          "metadata": {
            "tags": [],
            "needs_background": "light"
          }
        }
      ]
    },
    {
      "cell_type": "code",
      "metadata": {
        "id": "5Bnd1_kIUEbD",
        "colab_type": "code",
        "colab": {
          "base_uri": "https://localhost:8080/",
          "height": 82
        },
        "outputId": "defd6b2d-2f4a-4a87-de71-f9bacfe3bef9"
      },
      "source": [
        "\n",
        "digit =  train_x[0]\n",
        "print(type(digit))\n",
        "\n",
        "print(\"digit :\", digit.shape)\n",
        "print(\"train images :\", train_x.shape)\n",
        "print(\"test  images :\", test_x.shape)"
      ],
      "execution_count": 5,
      "outputs": [
        {
          "output_type": "stream",
          "text": [
            "<class 'numpy.ndarray'>\n",
            "digit : (28, 28)\n",
            "train images : (60000, 28, 28)\n",
            "test  images : (10000, 28, 28)\n"
          ],
          "name": "stdout"
        }
      ]
    },
    {
      "cell_type": "code",
      "metadata": {
        "id": "WlLOHMLxnzqJ",
        "colab_type": "code",
        "colab": {
          "base_uri": "https://localhost:8080/",
          "height": 247
        },
        "outputId": "7d7813ce-31ce-4ced-9a05-a0c7a4b05a28"
      },
      "source": [
        "model = models.Sequential([\n",
        "  Flatten(input_shape=(28, 28)),\n",
        "  Dense(1024, activation='relu'),\n",
        "  Dense(10, activation='softmax')\n",
        "])\n",
        "model.summary()"
      ],
      "execution_count": 8,
      "outputs": [
        {
          "output_type": "stream",
          "text": [
            "Model: \"sequential_1\"\n",
            "_________________________________________________________________\n",
            "Layer (type)                 Output Shape              Param #   \n",
            "=================================================================\n",
            "flatten_1 (Flatten)          (None, 784)               0         \n",
            "_________________________________________________________________\n",
            "dense_2 (Dense)              (None, 1024)              803840    \n",
            "_________________________________________________________________\n",
            "dense_3 (Dense)              (None, 10)                10250     \n",
            "=================================================================\n",
            "Total params: 814,090\n",
            "Trainable params: 814,090\n",
            "Non-trainable params: 0\n",
            "_________________________________________________________________\n"
          ],
          "name": "stdout"
        }
      ]
    },
    {
      "cell_type": "markdown",
      "metadata": {
        "id": "naQ8IcCXUSaK",
        "colab_type": "text"
      },
      "source": [
        "3. Model layer **Visualization**"
      ]
    },
    {
      "cell_type": "code",
      "metadata": {
        "id": "PipG-KiLTREB",
        "colab_type": "code",
        "colab": {
          "base_uri": "https://localhost:8080/",
          "height": 385
        },
        "outputId": "acad2147-3d46-4e4c-dbce-18723de86687"
      },
      "source": [
        "from IPython.display import SVG\n",
        "from keras.utils.vis_utils import model_to_dot\n",
        "%matplotlib inline\n",
        "#svg format image resize option >> dpi = 65\n",
        "SVG(model_to_dot(model, show_shapes=True ,dpi=65).create(prog='dot', format='svg'))"
      ],
      "execution_count": 9,
      "outputs": [
        {
          "output_type": "execute_result",
          "data": {
            "text/plain": [
              "<IPython.core.display.SVG object>"
            ],
            "image/svg+xml": "<svg height=\"274pt\" viewBox=\"0.00 0.00 328.00 304.00\" width=\"296pt\" xmlns=\"http://www.w3.org/2000/svg\" xmlns:xlink=\"http://www.w3.org/1999/xlink\">\n<g class=\"graph\" id=\"graph0\" transform=\"scale(.9028 .9028) rotate(0) translate(4 300)\">\n<title>G</title>\n<polygon fill=\"#ffffff\" points=\"-4,4 -4,-300 324,-300 324,4 -4,4\" stroke=\"transparent\"/>\n<!-- 140077676373216 -->\n<g class=\"node\" id=\"node1\">\n<title>140077676373216</title>\n<polygon fill=\"none\" points=\"0,-249.5 0,-295.5 320,-295.5 320,-249.5 0,-249.5\" stroke=\"#000000\"/>\n<text fill=\"#000000\" font-family=\"Times,serif\" font-size=\"14.00\" text-anchor=\"middle\" x=\"88\" y=\"-268.8\">flatten_1_input: InputLayer</text>\n<polyline fill=\"none\" points=\"176,-249.5 176,-295.5 \" stroke=\"#000000\"/>\n<text fill=\"#000000\" font-family=\"Times,serif\" font-size=\"14.00\" text-anchor=\"middle\" x=\"205\" y=\"-280.3\">input:</text>\n<polyline fill=\"none\" points=\"176,-272.5 234,-272.5 \" stroke=\"#000000\"/>\n<text fill=\"#000000\" font-family=\"Times,serif\" font-size=\"14.00\" text-anchor=\"middle\" x=\"205\" y=\"-257.3\">output:</text>\n<polyline fill=\"none\" points=\"234,-249.5 234,-295.5 \" stroke=\"#000000\"/>\n<text fill=\"#000000\" font-family=\"Times,serif\" font-size=\"14.00\" text-anchor=\"middle\" x=\"277\" y=\"-280.3\">[(?, 28, 28)]</text>\n<polyline fill=\"none\" points=\"234,-272.5 320,-272.5 \" stroke=\"#000000\"/>\n<text fill=\"#000000\" font-family=\"Times,serif\" font-size=\"14.00\" text-anchor=\"middle\" x=\"277\" y=\"-257.3\">[(?, 28, 28)]</text>\n</g>\n<!-- 140077676268176 -->\n<g class=\"node\" id=\"node2\">\n<title>140077676268176</title>\n<polygon fill=\"none\" points=\"36,-166.5 36,-212.5 284,-212.5 284,-166.5 36,-166.5\" stroke=\"#000000\"/>\n<text fill=\"#000000\" font-family=\"Times,serif\" font-size=\"14.00\" text-anchor=\"middle\" x=\"92.5\" y=\"-185.8\">flatten_1: Flatten</text>\n<polyline fill=\"none\" points=\"149,-166.5 149,-212.5 \" stroke=\"#000000\"/>\n<text fill=\"#000000\" font-family=\"Times,serif\" font-size=\"14.00\" text-anchor=\"middle\" x=\"178\" y=\"-197.3\">input:</text>\n<polyline fill=\"none\" points=\"149,-189.5 207,-189.5 \" stroke=\"#000000\"/>\n<text fill=\"#000000\" font-family=\"Times,serif\" font-size=\"14.00\" text-anchor=\"middle\" x=\"178\" y=\"-174.3\">output:</text>\n<polyline fill=\"none\" points=\"207,-166.5 207,-212.5 \" stroke=\"#000000\"/>\n<text fill=\"#000000\" font-family=\"Times,serif\" font-size=\"14.00\" text-anchor=\"middle\" x=\"245.5\" y=\"-197.3\">(?, 28, 28)</text>\n<polyline fill=\"none\" points=\"207,-189.5 284,-189.5 \" stroke=\"#000000\"/>\n<text fill=\"#000000\" font-family=\"Times,serif\" font-size=\"14.00\" text-anchor=\"middle\" x=\"245.5\" y=\"-174.3\">(?, 784)</text>\n</g>\n<!-- 140077676373216&#45;&gt;140077676268176 -->\n<g class=\"edge\" id=\"edge1\">\n<title>140077676373216-&gt;140077676268176</title>\n<path d=\"M160,-249.3799C160,-241.1745 160,-231.7679 160,-222.8786\" fill=\"none\" stroke=\"#000000\"/>\n<polygon fill=\"#000000\" points=\"163.5001,-222.784 160,-212.784 156.5001,-222.784 163.5001,-222.784\" stroke=\"#000000\"/>\n</g>\n<!-- 140077676268512 -->\n<g class=\"node\" id=\"node3\">\n<title>140077676268512</title>\n<polygon fill=\"none\" points=\"43,-83.5 43,-129.5 277,-129.5 277,-83.5 43,-83.5\" stroke=\"#000000\"/>\n<text fill=\"#000000\" font-family=\"Times,serif\" font-size=\"14.00\" text-anchor=\"middle\" x=\"96.5\" y=\"-102.8\">dense_2: Dense</text>\n<polyline fill=\"none\" points=\"150,-83.5 150,-129.5 \" stroke=\"#000000\"/>\n<text fill=\"#000000\" font-family=\"Times,serif\" font-size=\"14.00\" text-anchor=\"middle\" x=\"179\" y=\"-114.3\">input:</text>\n<polyline fill=\"none\" points=\"150,-106.5 208,-106.5 \" stroke=\"#000000\"/>\n<text fill=\"#000000\" font-family=\"Times,serif\" font-size=\"14.00\" text-anchor=\"middle\" x=\"179\" y=\"-91.3\">output:</text>\n<polyline fill=\"none\" points=\"208,-83.5 208,-129.5 \" stroke=\"#000000\"/>\n<text fill=\"#000000\" font-family=\"Times,serif\" font-size=\"14.00\" text-anchor=\"middle\" x=\"242.5\" y=\"-114.3\">(?, 784)</text>\n<polyline fill=\"none\" points=\"208,-106.5 277,-106.5 \" stroke=\"#000000\"/>\n<text fill=\"#000000\" font-family=\"Times,serif\" font-size=\"14.00\" text-anchor=\"middle\" x=\"242.5\" y=\"-91.3\">(?, 1024)</text>\n</g>\n<!-- 140077676268176&#45;&gt;140077676268512 -->\n<g class=\"edge\" id=\"edge2\">\n<title>140077676268176-&gt;140077676268512</title>\n<path d=\"M160,-166.3799C160,-158.1745 160,-148.7679 160,-139.8786\" fill=\"none\" stroke=\"#000000\"/>\n<polygon fill=\"#000000\" points=\"163.5001,-139.784 160,-129.784 156.5001,-139.784 163.5001,-139.784\" stroke=\"#000000\"/>\n</g>\n<!-- 140077676269128 -->\n<g class=\"node\" id=\"node4\">\n<title>140077676269128</title>\n<polygon fill=\"none\" points=\"43,-.5 43,-46.5 277,-46.5 277,-.5 43,-.5\" stroke=\"#000000\"/>\n<text fill=\"#000000\" font-family=\"Times,serif\" font-size=\"14.00\" text-anchor=\"middle\" x=\"96.5\" y=\"-19.8\">dense_3: Dense</text>\n<polyline fill=\"none\" points=\"150,-.5 150,-46.5 \" stroke=\"#000000\"/>\n<text fill=\"#000000\" font-family=\"Times,serif\" font-size=\"14.00\" text-anchor=\"middle\" x=\"179\" y=\"-31.3\">input:</text>\n<polyline fill=\"none\" points=\"150,-23.5 208,-23.5 \" stroke=\"#000000\"/>\n<text fill=\"#000000\" font-family=\"Times,serif\" font-size=\"14.00\" text-anchor=\"middle\" x=\"179\" y=\"-8.3\">output:</text>\n<polyline fill=\"none\" points=\"208,-.5 208,-46.5 \" stroke=\"#000000\"/>\n<text fill=\"#000000\" font-family=\"Times,serif\" font-size=\"14.00\" text-anchor=\"middle\" x=\"242.5\" y=\"-31.3\">(?, 1024)</text>\n<polyline fill=\"none\" points=\"208,-23.5 277,-23.5 \" stroke=\"#000000\"/>\n<text fill=\"#000000\" font-family=\"Times,serif\" font-size=\"14.00\" text-anchor=\"middle\" x=\"242.5\" y=\"-8.3\">(?, 10)</text>\n</g>\n<!-- 140077676268512&#45;&gt;140077676269128 -->\n<g class=\"edge\" id=\"edge3\">\n<title>140077676268512-&gt;140077676269128</title>\n<path d=\"M160,-83.3799C160,-75.1745 160,-65.7679 160,-56.8786\" fill=\"none\" stroke=\"#000000\"/>\n<polygon fill=\"#000000\" points=\"163.5001,-56.784 160,-46.784 156.5001,-56.784 163.5001,-56.784\" stroke=\"#000000\"/>\n</g>\n</g>\n</svg>"
          },
          "metadata": {
            "tags": []
          },
          "execution_count": 9
        }
      ]
    },
    {
      "cell_type": "code",
      "metadata": {
        "id": "P5q3nqjtil7W",
        "colab_type": "code",
        "colab": {}
      },
      "source": [
        "epochs = 12\n",
        "batch_size = 256\n",
        "split_num = 0.25\n"
      ],
      "execution_count": 11,
      "outputs": []
    },
    {
      "cell_type": "code",
      "metadata": {
        "id": "WqAbUJ17UZmt",
        "colab_type": "code",
        "colab": {
          "base_uri": "https://localhost:8080/",
          "height": 412
        },
        "outputId": "ef123a8c-978c-4946-9839-533b21a3a24e"
      },
      "source": [
        "model.compile(loss='sparse_categorical_crossentropy', optimizer='adam', metrics=['accuracy'])\n",
        "hist = model.fit(train_x, train_y,\n",
        "                 batch_size=batch_size,\n",
        "                 epochs=epochs,\n",
        "                 verbose=1, \n",
        "               validation_split=split_num)"
      ],
      "execution_count": 12,
      "outputs": [
        {
          "output_type": "stream",
          "text": [
            "Epoch 1/12\n",
            "176/176 [==============================] - 1s 6ms/step - loss: 0.3263 - accuracy: 0.9075 - val_loss: 0.1743 - val_accuracy: 0.9489\n",
            "Epoch 2/12\n",
            "176/176 [==============================] - 1s 5ms/step - loss: 0.1315 - accuracy: 0.9618 - val_loss: 0.1233 - val_accuracy: 0.9639\n",
            "Epoch 3/12\n",
            "176/176 [==============================] - 1s 5ms/step - loss: 0.0843 - accuracy: 0.9770 - val_loss: 0.1021 - val_accuracy: 0.9699\n",
            "Epoch 4/12\n",
            "176/176 [==============================] - 1s 5ms/step - loss: 0.0600 - accuracy: 0.9829 - val_loss: 0.0934 - val_accuracy: 0.9729\n",
            "Epoch 5/12\n",
            "176/176 [==============================] - 1s 5ms/step - loss: 0.0444 - accuracy: 0.9880 - val_loss: 0.0877 - val_accuracy: 0.9732\n",
            "Epoch 6/12\n",
            "176/176 [==============================] - 1s 5ms/step - loss: 0.0319 - accuracy: 0.9914 - val_loss: 0.0897 - val_accuracy: 0.9733\n",
            "Epoch 7/12\n",
            "176/176 [==============================] - 1s 5ms/step - loss: 0.0230 - accuracy: 0.9946 - val_loss: 0.0800 - val_accuracy: 0.9759\n",
            "Epoch 8/12\n",
            "176/176 [==============================] - 1s 5ms/step - loss: 0.0176 - accuracy: 0.9961 - val_loss: 0.0820 - val_accuracy: 0.9763\n",
            "Epoch 9/12\n",
            "176/176 [==============================] - 1s 5ms/step - loss: 0.0130 - accuracy: 0.9976 - val_loss: 0.0792 - val_accuracy: 0.9762\n",
            "Epoch 10/12\n",
            "176/176 [==============================] - 1s 5ms/step - loss: 0.0090 - accuracy: 0.9988 - val_loss: 0.0771 - val_accuracy: 0.9776\n",
            "Epoch 11/12\n",
            "176/176 [==============================] - 1s 5ms/step - loss: 0.0072 - accuracy: 0.9991 - val_loss: 0.0825 - val_accuracy: 0.9769\n",
            "Epoch 12/12\n",
            "176/176 [==============================] - 1s 5ms/step - loss: 0.0050 - accuracy: 0.9997 - val_loss: 0.0807 - val_accuracy: 0.9769\n"
          ],
          "name": "stdout"
        }
      ]
    },
    {
      "cell_type": "code",
      "metadata": {
        "id": "74eH1L2flPwc",
        "colab_type": "code",
        "colab": {
          "base_uri": "https://localhost:8080/",
          "height": 49
        },
        "outputId": "24360f55-da9e-4a9f-ff1b-c2d11da6775e"
      },
      "source": [
        "sc = model.evaluate(test_x, test_y)\n",
        "print(\"accuracy : \", sc[1], \"  loss : \", sc[0])"
      ],
      "execution_count": 20,
      "outputs": [
        {
          "output_type": "stream",
          "text": [
            "313/313 [==============================] - 1s 3ms/step - loss: 0.0630 - accuracy: 0.9808\n",
            "accuracy :  0.9807999730110168   loss :  0.06304489076137543\n"
          ],
          "name": "stdout"
        }
      ]
    },
    {
      "cell_type": "code",
      "metadata": {
        "id": "fQnhegrRm0wH",
        "colab_type": "code",
        "colab": {
          "base_uri": "https://localhost:8080/",
          "height": 573
        },
        "outputId": "23a05b43-5e4c-4bc2-c33f-f3837d3791c6"
      },
      "source": [
        "import matplotlib.pyplot as plt\n",
        "\n",
        "\n",
        "# 학습 정확성 값과 검증 정확성 값을 플롯팅 합니다. \n",
        "plt.plot(hist.history['accuracy'])\n",
        "plt.plot(hist.history['val_accuracy'])\n",
        "plt.title('Mnist Fully Connected Layer accuracy')\n",
        "plt.ylabel('Accuracy')\n",
        "plt.xlabel('Epoch')\n",
        "\n",
        "\n",
        "plt.legend(['Train', 'Test'], loc='upper left')\n",
        "plt.show()\n",
        "\n",
        "# 학습 손실 값과 검증 손실 값을 플롯팅 합니다.\n",
        "plt.plot(hist.history['loss'])\n",
        "plt.plot(hist.history['val_loss'])\n",
        "plt.title('Mnist Fully Connected Layer loss')\n",
        "plt.ylabel('Loss')\n",
        "\n",
        "plt.xlabel('Epoch')\n",
        "plt.legend(['Train', 'Test'], loc='upper left')\n",
        "plt.show()"
      ],
      "execution_count": 19,
      "outputs": [
        {
          "output_type": "display_data",
          "data": {
            "image/png": "[encoded data removed]",
            "text/plain": [
              "<Figure size 432x288 with 1 Axes>"
            ]
          },
          "metadata": {
            "tags": [],
            "needs_background": "light"
          }
        },
        {
          "output_type": "display_data",
          "data": {
            "image/png": "[encoded data removed]",
            "text/plain": [
              "<Figure size 432x288 with 1 Axes>"
            ]
          },
          "metadata": {
            "tags": [],
            "needs_background": "light"
          }
        }
      ]
    },
    {
      "cell_type": "markdown",
      "metadata": {
        "id": "gpW6-CHJVa0n",
        "colab_type": "text"
      },
      "source": [
        "5. Evaluate"
      ]
    },
    {
      "cell_type": "code",
      "metadata": {
        "id": "6ivcAbAhVcfb",
        "colab_type": "code",
        "colab": {}
      },
      "source": [
        "import matplotlib.pyplot as plt\n"
      ],
      "execution_count": 22,
      "outputs": []
    },
    {
      "cell_type": "code",
      "metadata": {
        "id": "bH8UpDRoVMRx",
        "colab_type": "code",
        "colab": {
          "base_uri": "https://localhost:8080/",
          "height": 351
        },
        "outputId": "e8fd9db3-1eab-4eab-e049-454c450282c4"
      },
      "source": [
        "n = 0\n",
        "plt.imshow(test_x[n].reshape(28, 28), cmap='Greys', interpolation='nearest')\n",
        "plt.show()\n",
        "\n",
        "print('The Answer is ', model.predict_classes(test_x[n].reshape((1, 28, 28, 1))))"
      ],
      "execution_count": 23,
      "outputs": [
        {
          "output_type": "display_data",
          "data": {
            "image/png": "[encoded data removed]",
            "text/plain": [
              "<Figure size 432x288 with 1 Axes>"
            ]
          },
          "metadata": {
            "tags": [],
            "needs_background": "light"
          }
        },
        {
          "output_type": "stream",
          "text": [
            "WARNING:tensorflow:From <ipython-input-23-34e3867b6c4a>:5: Sequential.predict_classes (from tensorflow.python.keras.engine.sequential) is deprecated and will be removed after 2021-01-01.\n",
            "Instructions for updating:\n",
            "Please use instead:* `np.argmax(model.predict(x), axis=-1)`,   if your model does multi-class classification   (e.g. if it uses a `softmax` last-layer activation).* `(model.predict(x) > 0.5).astype(\"int32\")`,   if your model does binary classification   (e.g. if it uses a `sigmoid` last-layer activation).\n",
            "The Answer is  [7]\n"
          ],
          "name": "stdout"
        }
      ]
    }
  ]
}